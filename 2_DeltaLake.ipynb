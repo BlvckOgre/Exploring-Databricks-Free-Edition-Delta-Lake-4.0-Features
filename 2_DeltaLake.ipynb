{
 "cells": [
  {
   "cell_type": "markdown",
   "metadata": {
    "application/vnd.databricks.v1+cell": {
     "cellMetadata": {},
     "inputWidgets": {},
     "nuid": "f806ce52-a401-42ac-8782-e7fddd19e337",
     "showTitle": false,
     "tableResultSettingsMap": {},
     "title": ""
    }
   },
   "source": [
    "# **Delta Log**"
   ]
  },
  {
   "cell_type": "code",
   "execution_count": 0,
   "metadata": {
    "application/vnd.databricks.v1+cell": {
     "cellMetadata": {
      "byteLimit": 2048000,
      "rowLimit": 10000
     },
     "inputWidgets": {},
     "nuid": "a53ad7c8-c6fa-4579-b0b1-02cdc05c4f54",
     "showTitle": false,
     "tableResultSettingsMap": {},
     "title": ""
    }
   },
   "outputs": [
    {
     "output_type": "display_data",
     "data": {
      "text/html": [
       "<style scoped>\n",
       "  .table-result-container {\n",
       "    max-height: 300px;\n",
       "    overflow: auto;\n",
       "  }\n",
       "  table, th, td {\n",
       "    border: 1px solid black;\n",
       "    border-collapse: collapse;\n",
       "  }\n",
       "  th, td {\n",
       "    padding: 5px;\n",
       "  }\n",
       "  th {\n",
       "    text-align: left;\n",
       "  }\n",
       "</style><div class='table-result-container'><table class='table-result'><thead style='background-color: white'><tr><th>id</th><th>salary</th><th>name</th></tr></thead><tbody><tr><td>1</td><td>100</td><td>bonolo</td></tr><tr><td>2</td><td>350</td><td>Givz</td></tr><tr><td>3</td><td>452</td><td>Raihaan</td></tr><tr><td>4</td><td>120</td><td>Thatoyaka</td></tr><tr><td>5</td><td>850</td><td>Thuto</td></tr></tbody></table></div>"
      ]
     },
     "metadata": {
      "application/vnd.databricks.v1+output": {
       "addedWidgets": {},
       "aggData": [],
       "aggError": "",
       "aggOverflow": false,
       "aggSchema": [],
       "aggSeriesLimitReached": false,
       "aggType": "",
       "arguments": {},
       "columnCustomDisplayInfos": {},
       "data": [
        [
         1,
         100,
         "bonolo"
        ],
        [
         2,
         350,
         "Givz"
        ],
        [
         3,
         452,
         "Raihaan"
        ],
        [
         4,
         120,
         "Thatoyaka"
        ],
        [
         5,
         850,
         "Thuto"
        ]
       ],
       "datasetInfos": [],
       "dbfsResultPath": null,
       "isJsonSchema": true,
       "metadata": {},
       "overflow": false,
       "plotOptions": {
        "customPlotOptions": {},
        "displayType": "table",
        "pivotAggregation": null,
        "pivotColumns": null,
        "xColumns": null,
        "yColumns": null
       },
       "removedWidgets": [],
       "schema": [
        {
         "metadata": "{}",
         "name": "id",
         "type": "\"long\""
        },
        {
         "metadata": "{}",
         "name": "salary",
         "type": "\"long\""
        },
        {
         "metadata": "{}",
         "name": "name",
         "type": "\"string\""
        }
       ],
       "type": "table"
      }
     },
     "output_type": "display_data"
    }
   ],
   "source": [
    "data = [(1,100,'bonolo'),(2,350,'Givz'),(3,452,'Raihaan'),(4,120,'Thatoyaka'),(5,850,'Thuto')]\n",
    "\n",
    "df = spark.createDataFrame(data, ['id', 'salary', 'name'])\n",
    "\n",
    "display(df)"
   ]
  },
  {
   "cell_type": "code",
   "execution_count": 0,
   "metadata": {
    "application/vnd.databricks.v1+cell": {
     "cellMetadata": {
      "byteLimit": 2048000,
      "rowLimit": 10000
     },
     "inputWidgets": {},
     "nuid": "74a64c02-c73b-4977-b4a9-d9c37ff0399f",
     "showTitle": false,
     "tableResultSettingsMap": {},
     "title": ""
    }
   },
   "outputs": [],
   "source": [
    "df.write.format(\"delta\")\\\n",
    "    .mode(\"append\")\\\n",
    "    .save(\"/Volumes/deltalakedidi/default/deltavolume/sink/\")"
   ]
  },
  {
   "cell_type": "code",
   "execution_count": 0,
   "metadata": {
    "application/vnd.databricks.v1+cell": {
     "cellMetadata": {
      "byteLimit": 2048000,
      "rowLimit": 10000
     },
     "inputWidgets": {},
     "nuid": "bc23ead1-a314-4524-b8d0-6dcae3bf1555",
     "showTitle": false,
     "tableResultSettingsMap": {},
     "title": ""
    }
   },
   "outputs": [
    {
     "output_type": "display_data",
     "data": {
      "text/html": [
       "<style scoped>\n",
       "  .table-result-container {\n",
       "    max-height: 300px;\n",
       "    overflow: auto;\n",
       "  }\n",
       "  table, th, td {\n",
       "    border: 1px solid black;\n",
       "    border-collapse: collapse;\n",
       "  }\n",
       "  th, td {\n",
       "    padding: 5px;\n",
       "  }\n",
       "  th {\n",
       "    text-align: left;\n",
       "  }\n",
       "</style><div class='table-result-container'><table class='table-result'><thead style='background-color: white'><tr><th>add</th><th>commitInfo</th></tr></thead><tbody><tr><td>null</td><td>List(0707-150745-qg0pqaa7-v2n, Databricks-Runtime/16.4.x-aarch64-photon-scala2.12, true, WriteSerializable, WRITE, List(1, 1118, 5), List(Append, [], false), 1, List(true, false), 1751900898418, 132e5549-e7d7-4093-b52a-c9614aec198a, 6396552343151840, mojapelothato15@gmail.com)</td></tr><tr><td>List(true, 1751900898000, part-00000-40103915-70d4-4d95-8728-782341e4b17f.c000.snappy.parquet, 1118, {\"numRecords\":5,\"minValues\":{\"id\":1,\"salary\":100,\"name\":\"Givz\"},\"maxValues\":{\"id\":5,\"salary\":850,\"name\":\"bonolo\"},\"nullCount\":{\"id\":0,\"salary\":0,\"name\":0},\"tightBounds\":true}, List(1751900898000000, 1751900898000000, 1751900898000000, 268435456))</td><td>null</td></tr></tbody></table></div>"
      ]
     },
     "metadata": {
      "application/vnd.databricks.v1+output": {
       "addedWidgets": {},
       "aggData": [],
       "aggError": "",
       "aggOverflow": false,
       "aggSchema": [],
       "aggSeriesLimitReached": false,
       "aggType": "",
       "arguments": {},
       "columnCustomDisplayInfos": {},
       "data": [
        [
         null,
         [
          "0707-150745-qg0pqaa7-v2n",
          "Databricks-Runtime/16.4.x-aarch64-photon-scala2.12",
          true,
          "WriteSerializable",
          "WRITE",
          [
           "1",
           "1118",
           "5"
          ],
          [
           "Append",
           "[]",
           false
          ],
          1,
          [
           "true",
           "false"
          ],
          1751900898418,
          "132e5549-e7d7-4093-b52a-c9614aec198a",
          "6396552343151840",
          "mojapelothato15@gmail.com"
         ]
        ],
        [
         [
          true,
          1751900898000,
          "part-00000-40103915-70d4-4d95-8728-782341e4b17f.c000.snappy.parquet",
          1118,
          "{\"numRecords\":5,\"minValues\":{\"id\":1,\"salary\":100,\"name\":\"Givz\"},\"maxValues\":{\"id\":5,\"salary\":850,\"name\":\"bonolo\"},\"nullCount\":{\"id\":0,\"salary\":0,\"name\":0},\"tightBounds\":true}",
          [
           "1751900898000000",
           "1751900898000000",
           "1751900898000000",
           "268435456"
          ]
         ],
         null
        ]
       ],
       "datasetInfos": [],
       "dbfsResultPath": null,
       "isJsonSchema": true,
       "metadata": {},
       "overflow": false,
       "plotOptions": {
        "customPlotOptions": {},
        "displayType": "table",
        "pivotAggregation": null,
        "pivotColumns": null,
        "xColumns": null,
        "yColumns": null
       },
       "removedWidgets": [],
       "schema": [
        {
         "metadata": "{}",
         "name": "add",
         "type": "{\"fields\":[{\"metadata\":{},\"name\":\"dataChange\",\"nullable\":true,\"type\":\"boolean\"},{\"metadata\":{},\"name\":\"modificationTime\",\"nullable\":true,\"type\":\"long\"},{\"metadata\":{},\"name\":\"path\",\"nullable\":true,\"type\":\"string\"},{\"metadata\":{},\"name\":\"size\",\"nullable\":true,\"type\":\"long\"},{\"metadata\":{},\"name\":\"stats\",\"nullable\":true,\"type\":\"string\"},{\"metadata\":{},\"name\":\"tags\",\"nullable\":true,\"type\":{\"fields\":[{\"metadata\":{},\"name\":\"INSERTION_TIME\",\"nullable\":true,\"type\":\"string\"},{\"metadata\":{},\"name\":\"MAX_INSERTION_TIME\",\"nullable\":true,\"type\":\"string\"},{\"metadata\":{},\"name\":\"MIN_INSERTION_TIME\",\"nullable\":true,\"type\":\"string\"},{\"metadata\":{},\"name\":\"OPTIMIZE_TARGET_SIZE\",\"nullable\":true,\"type\":\"string\"}],\"type\":\"struct\"}}],\"type\":\"struct\"}"
        },
        {
         "metadata": "{}",
         "name": "commitInfo",
         "type": "{\"fields\":[{\"metadata\":{},\"name\":\"clusterId\",\"nullable\":true,\"type\":\"string\"},{\"metadata\":{},\"name\":\"engineInfo\",\"nullable\":true,\"type\":\"string\"},{\"metadata\":{},\"name\":\"isBlindAppend\",\"nullable\":true,\"type\":\"boolean\"},{\"metadata\":{},\"name\":\"isolationLevel\",\"nullable\":true,\"type\":\"string\"},{\"metadata\":{},\"name\":\"operation\",\"nullable\":true,\"type\":\"string\"},{\"metadata\":{},\"name\":\"operationMetrics\",\"nullable\":true,\"type\":{\"fields\":[{\"metadata\":{},\"name\":\"numFiles\",\"nullable\":true,\"type\":\"string\"},{\"metadata\":{},\"name\":\"numOutputBytes\",\"nullable\":true,\"type\":\"string\"},{\"metadata\":{},\"name\":\"numOutputRows\",\"nullable\":true,\"type\":\"string\"}],\"type\":\"struct\"}},{\"metadata\":{},\"name\":\"operationParameters\",\"nullable\":true,\"type\":{\"fields\":[{\"metadata\":{},\"name\":\"mode\",\"nullable\":true,\"type\":\"string\"},{\"metadata\":{},\"name\":\"partitionBy\",\"nullable\":true,\"type\":\"string\"},{\"metadata\":{},\"name\":\"statsOnLoad\",\"nullable\":true,\"type\":\"boolean\"}],\"type\":\"struct\"}},{\"metadata\":{},\"name\":\"readVersion\",\"nullable\":true,\"type\":\"long\"},{\"metadata\":{},\"name\":\"tags\",\"nullable\":true,\"type\":{\"fields\":[{\"metadata\":{},\"name\":\"noRowsCopied\",\"nullable\":true,\"type\":\"string\"},{\"metadata\":{},\"name\":\"restoresDeletedRows\",\"nullable\":true,\"type\":\"string\"}],\"type\":\"struct\"}},{\"metadata\":{},\"name\":\"timestamp\",\"nullable\":true,\"type\":\"long\"},{\"metadata\":{},\"name\":\"txnId\",\"nullable\":true,\"type\":\"string\"},{\"metadata\":{},\"name\":\"userId\",\"nullable\":true,\"type\":\"string\"},{\"metadata\":{},\"name\":\"userName\",\"nullable\":true,\"type\":\"string\"}],\"type\":\"struct\"}"
        }
       ],
       "type": "table"
      }
     },
     "output_type": "display_data"
    }
   ],
   "source": [
    "df  = spark.read.format(\"json\").load(\"/Volumes/deltalakedidi/default/deltavolume/sink/_delta_log/00000000000000000002.json\")\n",
    "display(df)"
   ]
  }
 ],
 "metadata": {
  "application/vnd.databricks.v1+notebook": {
   "computePreferences": null,
   "dashboards": [],
   "environmentMetadata": {
    "base_environment": "",
    "environment_version": "2"
   },
   "inputWidgetPreferences": null,
   "language": "python",
   "notebookMetadata": {
    "pythonIndentUnit": 4
   },
   "notebookName": "2_DeltaLake",
   "widgets": {}
  },
  "language_info": {
   "name": "python"
  }
 },
 "nbformat": 4,
 "nbformat_minor": 0
}